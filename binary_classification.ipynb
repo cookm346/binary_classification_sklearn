{
  "nbformat": 4,
  "nbformat_minor": 0,
  "metadata": {
    "colab": {
      "name": "Untitled7.ipynb",
      "provenance": []
    },
    "kernelspec": {
      "name": "python3",
      "display_name": "Python 3"
    }
  },
  "cells": [
    {
      "cell_type": "code",
      "metadata": {
        "id": "kfWiiNb0Zh-9"
      },
      "source": [
        "import sys\n",
        "assert sys.version_info >= (3, 5)\n",
        "\n",
        "import sklearn\n",
        "assert sklearn.__version__ >= \"0.20\"\n",
        "\n",
        "import numpy as np\n",
        "\n",
        "np.random.seed(42)\n",
        "\n",
        "%matplotlib inline\n",
        "import matplotlib as mpl\n",
        "import matplotlib.pyplot as plt\n",
        "mpl.rc('axes', labelsize=14)\n",
        "mpl.rc('xtick', labelsize=12)\n",
        "mpl.rc('ytick', labelsize=12)"
      ],
      "execution_count": 1,
      "outputs": []
    },
    {
      "cell_type": "code",
      "metadata": {
        "id": "tYr5jmYgZuxj",
        "outputId": "d0bdb3c0-5c1c-45e4-981b-399ef5215c8d",
        "colab": {
          "base_uri": "https://localhost:8080/",
          "height": 35
        }
      },
      "source": [
        "from sklearn.datasets import load_breast_cancer\n",
        "data = load_breast_cancer()\n",
        "data.keys()"
      ],
      "execution_count": 2,
      "outputs": [
        {
          "output_type": "execute_result",
          "data": {
            "text/plain": [
              "dict_keys(['data', 'target', 'target_names', 'DESCR', 'feature_names', 'filename'])"
            ]
          },
          "metadata": {
            "tags": []
          },
          "execution_count": 2
        }
      ]
    },
    {
      "cell_type": "code",
      "metadata": {
        "id": "S9uI3c3wZ6kK"
      },
      "source": [
        "X, y = data[\"data\"], data[\"target\"]"
      ],
      "execution_count": 3,
      "outputs": []
    },
    {
      "cell_type": "code",
      "metadata": {
        "id": "SssJ2RuXZ-yM",
        "outputId": "63e2025a-596c-4ef5-c6ba-7eaca5905332",
        "colab": {
          "base_uri": "https://localhost:8080/",
          "height": 35
        }
      },
      "source": [
        "X.shape"
      ],
      "execution_count": 4,
      "outputs": [
        {
          "output_type": "execute_result",
          "data": {
            "text/plain": [
              "(569, 30)"
            ]
          },
          "metadata": {
            "tags": []
          },
          "execution_count": 4
        }
      ]
    },
    {
      "cell_type": "code",
      "metadata": {
        "id": "ZzC2raZgaATk",
        "outputId": "067bd078-01a3-4cf3-e1c3-671aad9fa150",
        "colab": {
          "base_uri": "https://localhost:8080/",
          "height": 35
        }
      },
      "source": [
        "y.shape"
      ],
      "execution_count": 5,
      "outputs": [
        {
          "output_type": "execute_result",
          "data": {
            "text/plain": [
              "(569,)"
            ]
          },
          "metadata": {
            "tags": []
          },
          "execution_count": 5
        }
      ]
    },
    {
      "cell_type": "code",
      "metadata": {
        "id": "xHaOtutEayTz"
      },
      "source": [
        "from sklearn.model_selection import train_test_split\n",
        "X_train, X_test, y_train, y_test = train_test_split(X, y, test_size=0.2)"
      ],
      "execution_count": 6,
      "outputs": []
    },
    {
      "cell_type": "code",
      "metadata": {
        "id": "EPeNDrK3lqtg",
        "outputId": "ebd46478-2094-4faa-ab9c-42abebedc28f",
        "colab": {
          "base_uri": "https://localhost:8080/",
          "height": 1000
        }
      },
      "source": [
        "from sklearn.model_selection import GridSearchCV\n",
        "from sklearn.neighbors import KNeighborsClassifier\n",
        "\n",
        "knn_param_grid = [{'weights': [\"uniform\", \"distance\"], 'n_neighbors': [5, 10, 20, 50, 100, 150]}]\n",
        "\n",
        "knn_clf = KNeighborsClassifier()\n",
        "knn_grid_search = GridSearchCV(knn_clf, knn_param_grid, cv=10, verbose=3)\n",
        "knn_grid_search.fit(X_train, y_train)"
      ],
      "execution_count": 7,
      "outputs": [
        {
          "output_type": "stream",
          "text": [
            "Fitting 10 folds for each of 12 candidates, totalling 120 fits\n",
            "[CV] n_neighbors=5, weights=uniform ..................................\n",
            "[CV] ...... n_neighbors=5, weights=uniform, score=0.978, total=   0.0s\n",
            "[CV] n_neighbors=5, weights=uniform ..................................\n",
            "[CV] ...... n_neighbors=5, weights=uniform, score=0.978, total=   0.0s\n",
            "[CV] n_neighbors=5, weights=uniform ..................................\n",
            "[CV] ...... n_neighbors=5, weights=uniform, score=0.891, total=   0.0s\n",
            "[CV] n_neighbors=5, weights=uniform ..................................\n",
            "[CV] ...... n_neighbors=5, weights=uniform, score=0.870, total=   0.0s\n",
            "[CV] n_neighbors=5, weights=uniform ..................................\n",
            "[CV] ...... n_neighbors=5, weights=uniform, score=0.957, total=   0.0s\n",
            "[CV] n_neighbors=5, weights=uniform ..................................\n",
            "[CV] ...... n_neighbors=5, weights=uniform, score=0.978, total=   0.0s\n",
            "[CV] n_neighbors=5, weights=uniform ..................................\n",
            "[CV] ...... n_neighbors=5, weights=uniform, score=0.889, total=   0.0s\n",
            "[CV] n_neighbors=5, weights=uniform ..................................\n",
            "[CV] ...... n_neighbors=5, weights=uniform, score=0.889, total=   0.0s\n",
            "[CV] n_neighbors=5, weights=uniform ..................................\n",
            "[CV] ...... n_neighbors=5, weights=uniform, score=0.911, total=   0.0s\n",
            "[CV] n_neighbors=5, weights=uniform ..................................\n",
            "[CV] ...... n_neighbors=5, weights=uniform, score=0.844, total=   0.0s\n",
            "[CV] n_neighbors=5, weights=distance .................................\n",
            "[CV] ..... n_neighbors=5, weights=distance, score=0.978, total=   0.0s\n",
            "[CV] n_neighbors=5, weights=distance .................................\n",
            "[CV] ..... n_neighbors=5, weights=distance, score=1.000, total=   0.0s\n",
            "[CV] n_neighbors=5, weights=distance .................................\n",
            "[CV] ..... n_neighbors=5, weights=distance, score=0.891, total=   0.0s\n",
            "[CV] n_neighbors=5, weights=distance .................................\n",
            "[CV] ..... n_neighbors=5, weights=distance, score=0.870, total=   0.0s\n",
            "[CV] n_neighbors=5, weights=distance .................................\n",
            "[CV] ..... n_neighbors=5, weights=distance, score=0.957, total=   0.0s\n",
            "[CV] n_neighbors=5, weights=distance .................................\n",
            "[CV] ..... n_neighbors=5, weights=distance, score=0.978, total=   0.0s\n",
            "[CV] n_neighbors=5, weights=distance .................................\n",
            "[CV] ..... n_neighbors=5, weights=distance, score=0.867, total=   0.0s\n",
            "[CV] n_neighbors=5, weights=distance .................................\n",
            "[CV] ..... n_neighbors=5, weights=distance, score=0.889, total=   0.0s\n",
            "[CV] n_neighbors=5, weights=distance .................................\n",
            "[CV] ..... n_neighbors=5, weights=distance, score=0.911, total=   0.0s\n",
            "[CV] n_neighbors=5, weights=distance .................................\n",
            "[CV] ..... n_neighbors=5, weights=distance, score=0.844, total=   0.0s\n",
            "[CV] n_neighbors=10, weights=uniform .................................\n",
            "[CV] ..... n_neighbors=10, weights=uniform, score=0.978, total=   0.0s\n",
            "[CV] n_neighbors=10, weights=uniform .................................\n",
            "[CV] ..... n_neighbors=10, weights=uniform, score=1.000, total=   0.0s\n",
            "[CV] n_neighbors=10, weights=uniform .................................\n",
            "[CV] ..... n_neighbors=10, weights=uniform, score=0.870, total=   0.0s\n",
            "[CV] n_neighbors=10, weights=uniform .................................\n",
            "[CV] ..... n_neighbors=10, weights=uniform, score=0.870, total=   0.0s\n",
            "[CV] n_neighbors=10, weights=uniform .................................\n",
            "[CV] ..... n_neighbors=10, weights=uniform, score=0.957, total=   0.0s\n",
            "[CV] n_neighbors=10, weights=uniform .................................\n",
            "[CV] ..... n_neighbors=10, weights=uniform, score=0.956, total=   0.0s\n",
            "[CV] n_neighbors=10, weights=uniform .................................\n",
            "[CV] ..... n_neighbors=10, weights=uniform, score=0.911, total=   0.0s\n",
            "[CV] n_neighbors=10, weights=uniform .................................\n",
            "[CV] ..... n_neighbors=10, weights=uniform, score=0.867, total=   0.0s\n",
            "[CV] n_neighbors=10, weights=uniform .................................\n",
            "[CV] ..... n_neighbors=10, weights=uniform, score=0.933, total=   0.0s\n",
            "[CV] n_neighbors=10, weights=uniform .................................\n",
            "[CV] ..... n_neighbors=10, weights=uniform, score=0.889, total=   0.0s\n",
            "[CV] n_neighbors=10, weights=distance ................................\n",
            "[CV] .... n_neighbors=10, weights=distance, score=0.978, total=   0.0s\n",
            "[CV] n_neighbors=10, weights=distance ................................\n",
            "[CV] .... n_neighbors=10, weights=distance, score=1.000, total=   0.0s\n",
            "[CV] n_neighbors=10, weights=distance ................................\n",
            "[CV] .... n_neighbors=10, weights=distance, score=0.891, total=   0.0s\n",
            "[CV] n_neighbors=10, weights=distance ................................\n",
            "[CV] .... n_neighbors=10, weights=distance, score=0.870, total=   0.0s\n",
            "[CV] n_neighbors=10, weights=distance ................................\n",
            "[CV] .... n_neighbors=10, weights=distance, score=0.957, total=   0.0s\n",
            "[CV] n_neighbors=10, weights=distance ................................\n",
            "[CV] .... n_neighbors=10, weights=distance, score=0.978, total=   0.0s\n",
            "[CV] n_neighbors=10, weights=distance ................................\n",
            "[CV] .... n_neighbors=10, weights=distance, score=0.911, total=   0.0s\n",
            "[CV] n_neighbors=10, weights=distance ................................\n",
            "[CV] .... n_neighbors=10, weights=distance, score=0.867, total=   0.0s\n",
            "[CV] n_neighbors=10, weights=distance ................................\n",
            "[CV] .... n_neighbors=10, weights=distance, score=0.933, total=   0.0s\n",
            "[CV] n_neighbors=10, weights=distance ................................\n",
            "[CV] .... n_neighbors=10, weights=distance, score=0.867, total=   0.0s\n",
            "[CV] n_neighbors=20, weights=uniform .................................\n",
            "[CV] ..... n_neighbors=20, weights=uniform, score=0.978, total=   0.0s\n",
            "[CV] n_neighbors=20, weights=uniform .................................\n",
            "[CV] ..... n_neighbors=20, weights=uniform, score=0.978, total=   0.0s\n",
            "[CV] n_neighbors=20, weights=uniform .................................\n"
          ],
          "name": "stdout"
        },
        {
          "output_type": "stream",
          "text": [
            "[Parallel(n_jobs=1)]: Using backend SequentialBackend with 1 concurrent workers.\n",
            "[Parallel(n_jobs=1)]: Done   1 out of   1 | elapsed:    0.0s remaining:    0.0s\n",
            "[Parallel(n_jobs=1)]: Done   2 out of   2 | elapsed:    0.0s remaining:    0.0s\n"
          ],
          "name": "stderr"
        },
        {
          "output_type": "stream",
          "text": [
            "[CV] ..... n_neighbors=20, weights=uniform, score=0.870, total=   0.0s\n",
            "[CV] n_neighbors=20, weights=uniform .................................\n",
            "[CV] ..... n_neighbors=20, weights=uniform, score=0.848, total=   0.0s\n",
            "[CV] n_neighbors=20, weights=uniform .................................\n",
            "[CV] ..... n_neighbors=20, weights=uniform, score=0.978, total=   0.0s\n",
            "[CV] n_neighbors=20, weights=uniform .................................\n",
            "[CV] ..... n_neighbors=20, weights=uniform, score=0.978, total=   0.0s\n",
            "[CV] n_neighbors=20, weights=uniform .................................\n",
            "[CV] ..... n_neighbors=20, weights=uniform, score=0.911, total=   0.0s\n",
            "[CV] n_neighbors=20, weights=uniform .................................\n",
            "[CV] ..... n_neighbors=20, weights=uniform, score=0.867, total=   0.0s\n",
            "[CV] n_neighbors=20, weights=uniform .................................\n",
            "[CV] ..... n_neighbors=20, weights=uniform, score=0.911, total=   0.0s\n",
            "[CV] n_neighbors=20, weights=uniform .................................\n",
            "[CV] ..... n_neighbors=20, weights=uniform, score=0.844, total=   0.0s\n",
            "[CV] n_neighbors=20, weights=distance ................................\n",
            "[CV] .... n_neighbors=20, weights=distance, score=0.978, total=   0.0s\n",
            "[CV] n_neighbors=20, weights=distance ................................\n",
            "[CV] .... n_neighbors=20, weights=distance, score=0.978, total=   0.0s\n",
            "[CV] n_neighbors=20, weights=distance ................................\n",
            "[CV] .... n_neighbors=20, weights=distance, score=0.870, total=   0.0s\n",
            "[CV] n_neighbors=20, weights=distance ................................\n",
            "[CV] .... n_neighbors=20, weights=distance, score=0.870, total=   0.0s\n",
            "[CV] n_neighbors=20, weights=distance ................................\n",
            "[CV] .... n_neighbors=20, weights=distance, score=0.978, total=   0.0s\n",
            "[CV] n_neighbors=20, weights=distance ................................\n",
            "[CV] .... n_neighbors=20, weights=distance, score=0.978, total=   0.0s\n",
            "[CV] n_neighbors=20, weights=distance ................................\n",
            "[CV] .... n_neighbors=20, weights=distance, score=0.889, total=   0.0s\n",
            "[CV] n_neighbors=20, weights=distance ................................\n",
            "[CV] .... n_neighbors=20, weights=distance, score=0.867, total=   0.0s\n",
            "[CV] n_neighbors=20, weights=distance ................................\n",
            "[CV] .... n_neighbors=20, weights=distance, score=0.911, total=   0.0s\n",
            "[CV] n_neighbors=20, weights=distance ................................\n",
            "[CV] .... n_neighbors=20, weights=distance, score=0.844, total=   0.0s\n",
            "[CV] n_neighbors=50, weights=uniform .................................\n",
            "[CV] ..... n_neighbors=50, weights=uniform, score=0.978, total=   0.0s\n",
            "[CV] n_neighbors=50, weights=uniform .................................\n",
            "[CV] ..... n_neighbors=50, weights=uniform, score=0.935, total=   0.0s\n",
            "[CV] n_neighbors=50, weights=uniform .................................\n",
            "[CV] ..... n_neighbors=50, weights=uniform, score=0.913, total=   0.0s\n",
            "[CV] n_neighbors=50, weights=uniform .................................\n",
            "[CV] ..... n_neighbors=50, weights=uniform, score=0.826, total=   0.0s\n",
            "[CV] n_neighbors=50, weights=uniform .................................\n",
            "[CV] ..... n_neighbors=50, weights=uniform, score=0.978, total=   0.0s\n",
            "[CV] n_neighbors=50, weights=uniform .................................\n",
            "[CV] ..... n_neighbors=50, weights=uniform, score=0.978, total=   0.0s\n",
            "[CV] n_neighbors=50, weights=uniform .................................\n",
            "[CV] ..... n_neighbors=50, weights=uniform, score=0.889, total=   0.0s\n",
            "[CV] n_neighbors=50, weights=uniform .................................\n",
            "[CV] ..... n_neighbors=50, weights=uniform, score=0.844, total=   0.0s\n",
            "[CV] n_neighbors=50, weights=uniform .................................\n",
            "[CV] ..... n_neighbors=50, weights=uniform, score=0.889, total=   0.0s\n",
            "[CV] n_neighbors=50, weights=uniform .................................\n",
            "[CV] ..... n_neighbors=50, weights=uniform, score=0.844, total=   0.0s\n",
            "[CV] n_neighbors=50, weights=distance ................................\n",
            "[CV] .... n_neighbors=50, weights=distance, score=0.978, total=   0.0s\n",
            "[CV] n_neighbors=50, weights=distance ................................\n",
            "[CV] .... n_neighbors=50, weights=distance, score=0.957, total=   0.0s\n",
            "[CV] n_neighbors=50, weights=distance ................................\n",
            "[CV] .... n_neighbors=50, weights=distance, score=0.891, total=   0.0s\n",
            "[CV] n_neighbors=50, weights=distance ................................\n",
            "[CV] .... n_neighbors=50, weights=distance, score=0.848, total=   0.0s\n",
            "[CV] n_neighbors=50, weights=distance ................................\n",
            "[CV] .... n_neighbors=50, weights=distance, score=0.978, total=   0.0s\n",
            "[CV] n_neighbors=50, weights=distance ................................\n",
            "[CV] .... n_neighbors=50, weights=distance, score=0.978, total=   0.0s\n",
            "[CV] n_neighbors=50, weights=distance ................................\n",
            "[CV] .... n_neighbors=50, weights=distance, score=0.889, total=   0.0s\n",
            "[CV] n_neighbors=50, weights=distance ................................\n",
            "[CV] .... n_neighbors=50, weights=distance, score=0.867, total=   0.0s\n",
            "[CV] n_neighbors=50, weights=distance ................................\n",
            "[CV] .... n_neighbors=50, weights=distance, score=0.889, total=   0.0s\n",
            "[CV] n_neighbors=50, weights=distance ................................\n",
            "[CV] .... n_neighbors=50, weights=distance, score=0.844, total=   0.0s\n",
            "[CV] n_neighbors=100, weights=uniform ................................\n",
            "[CV] .... n_neighbors=100, weights=uniform, score=0.935, total=   0.0s\n",
            "[CV] n_neighbors=100, weights=uniform ................................\n",
            "[CV] .... n_neighbors=100, weights=uniform, score=0.913, total=   0.0s\n",
            "[CV] n_neighbors=100, weights=uniform ................................\n",
            "[CV] .... n_neighbors=100, weights=uniform, score=0.891, total=   0.0s\n",
            "[CV] n_neighbors=100, weights=uniform ................................\n",
            "[CV] .... n_neighbors=100, weights=uniform, score=0.848, total=   0.0s\n",
            "[CV] n_neighbors=100, weights=uniform ................................\n",
            "[CV] .... n_neighbors=100, weights=uniform, score=0.978, total=   0.0s\n",
            "[CV] n_neighbors=100, weights=uniform ................................\n",
            "[CV] .... n_neighbors=100, weights=uniform, score=0.978, total=   0.0s\n",
            "[CV] n_neighbors=100, weights=uniform ................................\n",
            "[CV] .... n_neighbors=100, weights=uniform, score=0.889, total=   0.0s\n",
            "[CV] n_neighbors=100, weights=uniform ................................\n",
            "[CV] .... n_neighbors=100, weights=uniform, score=0.844, total=   0.0s\n",
            "[CV] n_neighbors=100, weights=uniform ................................\n",
            "[CV] .... n_neighbors=100, weights=uniform, score=0.867, total=   0.0s\n",
            "[CV] n_neighbors=100, weights=uniform ................................\n",
            "[CV] .... n_neighbors=100, weights=uniform, score=0.844, total=   0.0s\n",
            "[CV] n_neighbors=100, weights=distance ...............................\n",
            "[CV] ... n_neighbors=100, weights=distance, score=0.957, total=   0.0s\n",
            "[CV] n_neighbors=100, weights=distance ...............................\n",
            "[CV] ... n_neighbors=100, weights=distance, score=0.935, total=   0.0s\n",
            "[CV] n_neighbors=100, weights=distance ...............................\n",
            "[CV] ... n_neighbors=100, weights=distance, score=0.891, total=   0.0s\n",
            "[CV] n_neighbors=100, weights=distance ...............................\n",
            "[CV] ... n_neighbors=100, weights=distance, score=0.848, total=   0.0s\n",
            "[CV] n_neighbors=100, weights=distance ...............................\n",
            "[CV] ... n_neighbors=100, weights=distance, score=0.978, total=   0.0s\n",
            "[CV] n_neighbors=100, weights=distance ...............................\n",
            "[CV] ... n_neighbors=100, weights=distance, score=0.978, total=   0.0s\n",
            "[CV] n_neighbors=100, weights=distance ...............................\n",
            "[CV] ... n_neighbors=100, weights=distance, score=0.911, total=   0.0s\n",
            "[CV] n_neighbors=100, weights=distance ...............................\n",
            "[CV] ... n_neighbors=100, weights=distance, score=0.844, total=   0.0s\n",
            "[CV] n_neighbors=100, weights=distance ...............................\n",
            "[CV] ... n_neighbors=100, weights=distance, score=0.889, total=   0.0s\n",
            "[CV] n_neighbors=100, weights=distance ...............................\n",
            "[CV] ... n_neighbors=100, weights=distance, score=0.844, total=   0.0s\n",
            "[CV] n_neighbors=150, weights=uniform ................................\n",
            "[CV] .... n_neighbors=150, weights=uniform, score=0.870, total=   0.0s\n",
            "[CV] n_neighbors=150, weights=uniform ................................\n",
            "[CV] .... n_neighbors=150, weights=uniform, score=0.870, total=   0.0s\n",
            "[CV] n_neighbors=150, weights=uniform ................................\n",
            "[CV] .... n_neighbors=150, weights=uniform, score=0.848, total=   0.0s\n",
            "[CV] n_neighbors=150, weights=uniform ................................\n",
            "[CV] .... n_neighbors=150, weights=uniform, score=0.848, total=   0.0s\n",
            "[CV] n_neighbors=150, weights=uniform ................................\n",
            "[CV] .... n_neighbors=150, weights=uniform, score=0.957, total=   0.0s\n",
            "[CV] n_neighbors=150, weights=uniform ................................\n",
            "[CV] .... n_neighbors=150, weights=uniform, score=0.956, total=   0.0s\n",
            "[CV] n_neighbors=150, weights=uniform ................................\n",
            "[CV] .... n_neighbors=150, weights=uniform, score=0.844, total=   0.0s\n",
            "[CV] n_neighbors=150, weights=uniform ................................\n",
            "[CV] .... n_neighbors=150, weights=uniform, score=0.822, total=   0.0s\n",
            "[CV] n_neighbors=150, weights=uniform ................................\n",
            "[CV] .... n_neighbors=150, weights=uniform, score=0.889, total=   0.0s\n",
            "[CV] n_neighbors=150, weights=uniform ................................\n",
            "[CV] .... n_neighbors=150, weights=uniform, score=0.822, total=   0.0s\n",
            "[CV] n_neighbors=150, weights=distance ...............................\n",
            "[CV] ... n_neighbors=150, weights=distance, score=0.957, total=   0.0s\n",
            "[CV] n_neighbors=150, weights=distance ...............................\n",
            "[CV] ... n_neighbors=150, weights=distance, score=0.913, total=   0.0s\n",
            "[CV] n_neighbors=150, weights=distance ...............................\n",
            "[CV] ... n_neighbors=150, weights=distance, score=0.891, total=   0.0s\n",
            "[CV] n_neighbors=150, weights=distance ...............................\n",
            "[CV] ... n_neighbors=150, weights=distance, score=0.848, total=   0.0s\n",
            "[CV] n_neighbors=150, weights=distance ...............................\n",
            "[CV] ... n_neighbors=150, weights=distance, score=0.978, total=   0.0s\n",
            "[CV] n_neighbors=150, weights=distance ...............................\n",
            "[CV] ... n_neighbors=150, weights=distance, score=0.978, total=   0.0s\n",
            "[CV] n_neighbors=150, weights=distance ...............................\n",
            "[CV] ... n_neighbors=150, weights=distance, score=0.844, total=   0.0s\n",
            "[CV] n_neighbors=150, weights=distance ...............................\n",
            "[CV] ... n_neighbors=150, weights=distance, score=0.844, total=   0.0s\n",
            "[CV] n_neighbors=150, weights=distance ...............................\n",
            "[CV] ... n_neighbors=150, weights=distance, score=0.867, total=   0.0s\n",
            "[CV] n_neighbors=150, weights=distance ...............................\n",
            "[CV] ... n_neighbors=150, weights=distance, score=0.844, total=   0.0s\n"
          ],
          "name": "stdout"
        },
        {
          "output_type": "stream",
          "text": [
            "[Parallel(n_jobs=1)]: Done 120 out of 120 | elapsed:    0.6s finished\n"
          ],
          "name": "stderr"
        },
        {
          "output_type": "execute_result",
          "data": {
            "text/plain": [
              "GridSearchCV(cv=10, error_score=nan,\n",
              "             estimator=KNeighborsClassifier(algorithm='auto', leaf_size=30,\n",
              "                                            metric='minkowski',\n",
              "                                            metric_params=None, n_jobs=None,\n",
              "                                            n_neighbors=5, p=2,\n",
              "                                            weights='uniform'),\n",
              "             iid='deprecated', n_jobs=None,\n",
              "             param_grid=[{'n_neighbors': [5, 10, 20, 50, 100, 150],\n",
              "                          'weights': ['uniform', 'distance']}],\n",
              "             pre_dispatch='2*n_jobs', refit=True, return_train_score=False,\n",
              "             scoring=None, verbose=3)"
            ]
          },
          "metadata": {
            "tags": []
          },
          "execution_count": 7
        }
      ]
    },
    {
      "cell_type": "code",
      "metadata": {
        "id": "D60MnWfvmhku",
        "outputId": "e7a948c6-b02a-4f47-acef-a65366c4429d",
        "colab": {
          "base_uri": "https://localhost:8080/",
          "height": 54
        }
      },
      "source": [
        "print(knn_grid_search.best_params_)\n",
        "print(knn_grid_search.best_score_)"
      ],
      "execution_count": 8,
      "outputs": [
        {
          "output_type": "stream",
          "text": [
            "{'n_neighbors': 10, 'weights': 'distance'}\n",
            "0.9251207729468598\n"
          ],
          "name": "stdout"
        }
      ]
    },
    {
      "cell_type": "code",
      "metadata": {
        "id": "uk-GZ5bBnkDH",
        "outputId": "9d8e9849-6e02-41c8-dc4e-03bdaae2cbfc",
        "colab": {
          "base_uri": "https://localhost:8080/",
          "height": 90
        }
      },
      "source": [
        "from sklearn.model_selection import GridSearchCV\n",
        "from sklearn.metrics import accuracy_score, precision_score, recall_score, f1_score\n",
        "knn_y_pred = knn_grid_search.predict(X_test)\n",
        "print(accuracy_score(y_test, knn_y_pred))\n",
        "print(precision_score(y_test, knn_y_pred))\n",
        "print(recall_score(y_test, knn_y_pred))\n",
        "print(f1_score(y_test, knn_y_pred))"
      ],
      "execution_count": 9,
      "outputs": [
        {
          "output_type": "stream",
          "text": [
            "0.956140350877193\n",
            "0.9459459459459459\n",
            "0.9859154929577465\n",
            "0.9655172413793103\n"
          ],
          "name": "stdout"
        }
      ]
    },
    {
      "cell_type": "code",
      "metadata": {
        "id": "KaOKCU1An6gN",
        "outputId": "66b460f8-00c9-4499-82e4-9459960b1c5f",
        "colab": {
          "base_uri": "https://localhost:8080/",
          "height": 54
        }
      },
      "source": [
        "from sklearn.metrics import confusion_matrix\n",
        "knn_cm = confusion_matrix(y_test, knn_y_pred)\n",
        "knn_cm"
      ],
      "execution_count": 10,
      "outputs": [
        {
          "output_type": "execute_result",
          "data": {
            "text/plain": [
              "array([[39,  4],\n",
              "       [ 1, 70]])"
            ]
          },
          "metadata": {
            "tags": []
          },
          "execution_count": 10
        }
      ]
    },
    {
      "cell_type": "code",
      "metadata": {
        "id": "R_C9xKc9n9be",
        "outputId": "e60f9ea0-b78d-41f2-ceae-06933326fcca",
        "colab": {
          "base_uri": "https://localhost:8080/",
          "height": 618
        }
      },
      "source": [
        "import seaborn as sn\n",
        "import pandas as pd\n",
        "plt.figure(figsize = (10,10))\n",
        "sn.heatmap(knn_cm, annot=True)"
      ],
      "execution_count": 11,
      "outputs": [
        {
          "output_type": "execute_result",
          "data": {
            "text/plain": [
              "<matplotlib.axes._subplots.AxesSubplot at 0x7fe92d643a20>"
            ]
          },
          "metadata": {
            "tags": []
          },
          "execution_count": 11
        },
        {
          "output_type": "display_data",
          "data": {
            "image/png": "[encoded data removed]",
            "text/plain": [
              "<Figure size 720x720 with 2 Axes>"
            ]
          },
          "metadata": {
            "tags": [],
            "needs_background": "light"
          }
        }
      ]
    },
    {
      "cell_type": "code",
      "metadata": {
        "id": "aQ0ScTHRoCLR"
      },
      "source": [
        "from sklearn.metrics import roc_curve\n",
        "\n",
        "knn_fpr, knn_tpr, knn_thresholds = roc_curve(y_test, knn_y_pred)"
      ],
      "execution_count": 12,
      "outputs": []
    },
    {
      "cell_type": "code",
      "metadata": {
        "id": "73pLZ5_eqSEC",
        "outputId": "d97350e3-e4d5-4b1c-d8c0-f89542c962d5",
        "colab": {
          "base_uri": "https://localhost:8080/",
          "height": 401
        }
      },
      "source": [
        "def plot_roc_curve(fpr, tpr, label=None):\n",
        "    plt.plot(fpr, tpr, linewidth=2, label=label)\n",
        "    plt.plot([0, 1], [0, 1], 'k--')\n",
        "    plt.axis([0, 1, 0, 1])\n",
        "    plt.xlabel('False Positive Rate (Fall-Out)', fontsize=16)\n",
        "    plt.ylabel('True Positive Rate (Recall)', fontsize=16)\n",
        "    plt.grid(True)\n",
        "\n",
        "plt.figure(figsize=(8, 6))\n",
        "plot_roc_curve(knn_fpr, knn_tpr)\n",
        "plt.show()"
      ],
      "execution_count": 13,
      "outputs": [
        {
          "output_type": "display_data",
          "data": {
            "image/png": "[encoded data removed]",
            "text/plain": [
              "<Figure size 576x432 with 1 Axes>"
            ]
          },
          "metadata": {
            "tags": [],
            "needs_background": "light"
          }
        }
      ]
    },
    {
      "cell_type": "code",
      "metadata": {
        "id": "4cerOibdsHmn",
        "outputId": "d99c9ccc-7f4f-424d-dfa0-06f674fe6561",
        "colab": {
          "base_uri": "https://localhost:8080/",
          "height": 35
        }
      },
      "source": [
        "from sklearn.metrics import roc_auc_score\n",
        "\n",
        "roc_auc_score(y_test, knn_y_pred)"
      ],
      "execution_count": 14,
      "outputs": [
        {
          "output_type": "execute_result",
          "data": {
            "text/plain": [
              "0.9464461185718965"
            ]
          },
          "metadata": {
            "tags": []
          },
          "execution_count": 14
        }
      ]
    },
    {
      "cell_type": "code",
      "metadata": {
        "id": "qeJ0GOLqbsrc",
        "outputId": "fa3fbb26-2a7c-4bd2-ec22-f52ab47e0e22",
        "colab": {
          "base_uri": "https://localhost:8080/",
          "height": 1000
        }
      },
      "source": [
        "from sklearn.ensemble import RandomForestClassifier\n",
        "\n",
        "rf_param_grid = [{'criterion': [\"gini\", \"entropy\"], 'n_estimators': [5, 10, 20, 50, 100, 200]}]\n",
        "\n",
        "rf_clf = RandomForestClassifier()\n",
        "rf_grid_search = GridSearchCV(rf_clf, rf_param_grid, cv=10, verbose=3)\n",
        "rf_grid_search.fit(X_train, y_train)"
      ],
      "execution_count": 15,
      "outputs": [
        {
          "output_type": "stream",
          "text": [
            "Fitting 10 folds for each of 12 candidates, totalling 120 fits\n",
            "[CV] criterion=gini, n_estimators=5 ..................................\n",
            "[CV] ...... criterion=gini, n_estimators=5, score=1.000, total=   0.0s\n",
            "[CV] criterion=gini, n_estimators=5 ..................................\n",
            "[CV] ...... criterion=gini, n_estimators=5, score=0.978, total=   0.0s\n",
            "[CV] criterion=gini, n_estimators=5 ..................................\n",
            "[CV] ...... criterion=gini, n_estimators=5, score=0.957, total=   0.0s\n",
            "[CV] criterion=gini, n_estimators=5 ..................................\n",
            "[CV] ...... criterion=gini, n_estimators=5, score=0.935, total=   0.0s\n",
            "[CV] criterion=gini, n_estimators=5 ..................................\n",
            "[CV] ...... criterion=gini, n_estimators=5, score=0.935, total=   0.0s\n",
            "[CV] criterion=gini, n_estimators=5 ..................................\n",
            "[CV] ...... criterion=gini, n_estimators=5, score=1.000, total=   0.0s\n",
            "[CV] criterion=gini, n_estimators=5 ..................................\n",
            "[CV] ...... criterion=gini, n_estimators=5, score=0.933, total=   0.0s\n",
            "[CV] criterion=gini, n_estimators=5 ..................................\n",
            "[CV] ...... criterion=gini, n_estimators=5, score=0.933, total=   0.0s\n",
            "[CV] criterion=gini, n_estimators=5 ..................................\n",
            "[CV] ...... criterion=gini, n_estimators=5, score=0.978, total=   0.0s\n",
            "[CV] criterion=gini, n_estimators=5 ..................................\n",
            "[CV] ...... criterion=gini, n_estimators=5, score=0.867, total=   0.0s\n",
            "[CV] criterion=gini, n_estimators=10 .................................\n",
            "[CV] ..... criterion=gini, n_estimators=10, score=0.978, total=   0.0s\n",
            "[CV] criterion=gini, n_estimators=10 .................................\n",
            "[CV] ..... criterion=gini, n_estimators=10, score=0.957, total=   0.0s\n",
            "[CV] criterion=gini, n_estimators=10 .................................\n"
          ],
          "name": "stdout"
        },
        {
          "output_type": "stream",
          "text": [
            "[Parallel(n_jobs=1)]: Using backend SequentialBackend with 1 concurrent workers.\n",
            "[Parallel(n_jobs=1)]: Done   1 out of   1 | elapsed:    0.0s remaining:    0.0s\n",
            "[Parallel(n_jobs=1)]: Done   2 out of   2 | elapsed:    0.0s remaining:    0.0s\n"
          ],
          "name": "stderr"
        },
        {
          "output_type": "stream",
          "text": [
            "[CV] ..... criterion=gini, n_estimators=10, score=0.978, total=   0.0s\n",
            "[CV] criterion=gini, n_estimators=10 .................................\n",
            "[CV] ..... criterion=gini, n_estimators=10, score=0.935, total=   0.0s\n",
            "[CV] criterion=gini, n_estimators=10 .................................\n",
            "[CV] ..... criterion=gini, n_estimators=10, score=0.978, total=   0.0s\n",
            "[CV] criterion=gini, n_estimators=10 .................................\n",
            "[CV] ..... criterion=gini, n_estimators=10, score=0.956, total=   0.0s\n",
            "[CV] criterion=gini, n_estimators=10 .................................\n",
            "[CV] ..... criterion=gini, n_estimators=10, score=0.956, total=   0.0s\n",
            "[CV] criterion=gini, n_estimators=10 .................................\n",
            "[CV] ..... criterion=gini, n_estimators=10, score=0.956, total=   0.0s\n",
            "[CV] criterion=gini, n_estimators=10 .................................\n",
            "[CV] ..... criterion=gini, n_estimators=10, score=0.978, total=   0.0s\n",
            "[CV] criterion=gini, n_estimators=10 .................................\n",
            "[CV] ..... criterion=gini, n_estimators=10, score=0.889, total=   0.0s\n",
            "[CV] criterion=gini, n_estimators=20 .................................\n",
            "[CV] ..... criterion=gini, n_estimators=20, score=1.000, total=   0.0s\n",
            "[CV] criterion=gini, n_estimators=20 .................................\n",
            "[CV] ..... criterion=gini, n_estimators=20, score=0.978, total=   0.0s\n",
            "[CV] criterion=gini, n_estimators=20 .................................\n",
            "[CV] ..... criterion=gini, n_estimators=20, score=1.000, total=   0.0s\n",
            "[CV] criterion=gini, n_estimators=20 .................................\n",
            "[CV] ..... criterion=gini, n_estimators=20, score=0.913, total=   0.0s\n",
            "[CV] criterion=gini, n_estimators=20 .................................\n",
            "[CV] ..... criterion=gini, n_estimators=20, score=0.978, total=   0.0s\n",
            "[CV] criterion=gini, n_estimators=20 .................................\n",
            "[CV] ..... criterion=gini, n_estimators=20, score=0.978, total=   0.0s\n",
            "[CV] criterion=gini, n_estimators=20 .................................\n",
            "[CV] ..... criterion=gini, n_estimators=20, score=0.978, total=   0.0s\n",
            "[CV] criterion=gini, n_estimators=20 .................................\n",
            "[CV] ..... criterion=gini, n_estimators=20, score=0.956, total=   0.0s\n",
            "[CV] criterion=gini, n_estimators=20 .................................\n",
            "[CV] ..... criterion=gini, n_estimators=20, score=0.978, total=   0.0s\n",
            "[CV] criterion=gini, n_estimators=20 .................................\n",
            "[CV] ..... criterion=gini, n_estimators=20, score=0.911, total=   0.1s\n",
            "[CV] criterion=gini, n_estimators=50 .................................\n",
            "[CV] ..... criterion=gini, n_estimators=50, score=0.978, total=   0.1s\n",
            "[CV] criterion=gini, n_estimators=50 .................................\n",
            "[CV] ..... criterion=gini, n_estimators=50, score=0.957, total=   0.1s\n",
            "[CV] criterion=gini, n_estimators=50 .................................\n",
            "[CV] ..... criterion=gini, n_estimators=50, score=0.978, total=   0.1s\n",
            "[CV] criterion=gini, n_estimators=50 .................................\n",
            "[CV] ..... criterion=gini, n_estimators=50, score=0.935, total=   0.1s\n",
            "[CV] criterion=gini, n_estimators=50 .................................\n",
            "[CV] ..... criterion=gini, n_estimators=50, score=0.957, total=   0.1s\n",
            "[CV] criterion=gini, n_estimators=50 .................................\n",
            "[CV] ..... criterion=gini, n_estimators=50, score=0.978, total=   0.1s\n",
            "[CV] criterion=gini, n_estimators=50 .................................\n",
            "[CV] ..... criterion=gini, n_estimators=50, score=0.978, total=   0.1s\n",
            "[CV] criterion=gini, n_estimators=50 .................................\n",
            "[CV] ..... criterion=gini, n_estimators=50, score=0.978, total=   0.1s\n",
            "[CV] criterion=gini, n_estimators=50 .................................\n",
            "[CV] ..... criterion=gini, n_estimators=50, score=0.978, total=   0.1s\n",
            "[CV] criterion=gini, n_estimators=50 .................................\n",
            "[CV] ..... criterion=gini, n_estimators=50, score=0.933, total=   0.1s\n",
            "[CV] criterion=gini, n_estimators=100 ................................\n",
            "[CV] .... criterion=gini, n_estimators=100, score=1.000, total=   0.2s\n",
            "[CV] criterion=gini, n_estimators=100 ................................\n",
            "[CV] .... criterion=gini, n_estimators=100, score=0.935, total=   0.2s\n",
            "[CV] criterion=gini, n_estimators=100 ................................\n",
            "[CV] .... criterion=gini, n_estimators=100, score=1.000, total=   0.2s\n",
            "[CV] criterion=gini, n_estimators=100 ................................\n",
            "[CV] .... criterion=gini, n_estimators=100, score=0.913, total=   0.2s\n",
            "[CV] criterion=gini, n_estimators=100 ................................\n",
            "[CV] .... criterion=gini, n_estimators=100, score=0.978, total=   0.2s\n",
            "[CV] criterion=gini, n_estimators=100 ................................\n",
            "[CV] .... criterion=gini, n_estimators=100, score=0.978, total=   0.2s\n",
            "[CV] criterion=gini, n_estimators=100 ................................\n",
            "[CV] .... criterion=gini, n_estimators=100, score=0.956, total=   0.2s\n",
            "[CV] criterion=gini, n_estimators=100 ................................\n",
            "[CV] .... criterion=gini, n_estimators=100, score=0.956, total=   0.2s\n",
            "[CV] criterion=gini, n_estimators=100 ................................\n",
            "[CV] .... criterion=gini, n_estimators=100, score=0.978, total=   0.2s\n",
            "[CV] criterion=gini, n_estimators=100 ................................\n",
            "[CV] .... criterion=gini, n_estimators=100, score=0.911, total=   0.2s\n",
            "[CV] criterion=gini, n_estimators=200 ................................\n",
            "[CV] .... criterion=gini, n_estimators=200, score=1.000, total=   0.4s\n",
            "[CV] criterion=gini, n_estimators=200 ................................\n",
            "[CV] .... criterion=gini, n_estimators=200, score=0.978, total=   0.4s\n",
            "[CV] criterion=gini, n_estimators=200 ................................\n",
            "[CV] .... criterion=gini, n_estimators=200, score=0.978, total=   0.4s\n",
            "[CV] criterion=gini, n_estimators=200 ................................\n",
            "[CV] .... criterion=gini, n_estimators=200, score=0.913, total=   0.4s\n",
            "[CV] criterion=gini, n_estimators=200 ................................\n",
            "[CV] .... criterion=gini, n_estimators=200, score=0.978, total=   0.4s\n",
            "[CV] criterion=gini, n_estimators=200 ................................\n",
            "[CV] .... criterion=gini, n_estimators=200, score=0.978, total=   0.4s\n",
            "[CV] criterion=gini, n_estimators=200 ................................\n",
            "[CV] .... criterion=gini, n_estimators=200, score=0.956, total=   0.4s\n",
            "[CV] criterion=gini, n_estimators=200 ................................\n",
            "[CV] .... criterion=gini, n_estimators=200, score=0.956, total=   0.4s\n",
            "[CV] criterion=gini, n_estimators=200 ................................\n",
            "[CV] .... criterion=gini, n_estimators=200, score=0.978, total=   0.4s\n",
            "[CV] criterion=gini, n_estimators=200 ................................\n",
            "[CV] .... criterion=gini, n_estimators=200, score=0.911, total=   0.4s\n",
            "[CV] criterion=entropy, n_estimators=5 ...............................\n",
            "[CV] ... criterion=entropy, n_estimators=5, score=0.957, total=   0.0s\n",
            "[CV] criterion=entropy, n_estimators=5 ...............................\n",
            "[CV] ... criterion=entropy, n_estimators=5, score=1.000, total=   0.0s\n",
            "[CV] criterion=entropy, n_estimators=5 ...............................\n",
            "[CV] ... criterion=entropy, n_estimators=5, score=0.978, total=   0.0s\n",
            "[CV] criterion=entropy, n_estimators=5 ...............................\n",
            "[CV] ... criterion=entropy, n_estimators=5, score=0.935, total=   0.0s\n",
            "[CV] criterion=entropy, n_estimators=5 ...............................\n",
            "[CV] ... criterion=entropy, n_estimators=5, score=0.935, total=   0.0s\n",
            "[CV] criterion=entropy, n_estimators=5 ...............................\n",
            "[CV] ... criterion=entropy, n_estimators=5, score=0.978, total=   0.0s\n",
            "[CV] criterion=entropy, n_estimators=5 ...............................\n",
            "[CV] ... criterion=entropy, n_estimators=5, score=0.911, total=   0.0s\n",
            "[CV] criterion=entropy, n_estimators=5 ...............................\n",
            "[CV] ... criterion=entropy, n_estimators=5, score=0.956, total=   0.0s\n",
            "[CV] criterion=entropy, n_estimators=5 ...............................\n",
            "[CV] ... criterion=entropy, n_estimators=5, score=0.978, total=   0.0s\n",
            "[CV] criterion=entropy, n_estimators=5 ...............................\n",
            "[CV] ... criterion=entropy, n_estimators=5, score=0.867, total=   0.0s\n",
            "[CV] criterion=entropy, n_estimators=10 ..............................\n",
            "[CV] .. criterion=entropy, n_estimators=10, score=0.978, total=   0.0s\n",
            "[CV] criterion=entropy, n_estimators=10 ..............................\n",
            "[CV] .. criterion=entropy, n_estimators=10, score=0.913, total=   0.0s\n",
            "[CV] criterion=entropy, n_estimators=10 ..............................\n",
            "[CV] .. criterion=entropy, n_estimators=10, score=0.978, total=   0.0s\n",
            "[CV] criterion=entropy, n_estimators=10 ..............................\n",
            "[CV] .. criterion=entropy, n_estimators=10, score=0.891, total=   0.0s\n",
            "[CV] criterion=entropy, n_estimators=10 ..............................\n",
            "[CV] .. criterion=entropy, n_estimators=10, score=0.957, total=   0.0s\n",
            "[CV] criterion=entropy, n_estimators=10 ..............................\n",
            "[CV] .. criterion=entropy, n_estimators=10, score=0.956, total=   0.0s\n",
            "[CV] criterion=entropy, n_estimators=10 ..............................\n",
            "[CV] .. criterion=entropy, n_estimators=10, score=0.933, total=   0.0s\n",
            "[CV] criterion=entropy, n_estimators=10 ..............................\n",
            "[CV] .. criterion=entropy, n_estimators=10, score=0.956, total=   0.0s\n",
            "[CV] criterion=entropy, n_estimators=10 ..............................\n",
            "[CV] .. criterion=entropy, n_estimators=10, score=0.978, total=   0.0s\n",
            "[CV] criterion=entropy, n_estimators=10 ..............................\n",
            "[CV] .. criterion=entropy, n_estimators=10, score=0.867, total=   0.0s\n",
            "[CV] criterion=entropy, n_estimators=20 ..............................\n",
            "[CV] .. criterion=entropy, n_estimators=20, score=1.000, total=   0.1s\n",
            "[CV] criterion=entropy, n_estimators=20 ..............................\n",
            "[CV] .. criterion=entropy, n_estimators=20, score=0.957, total=   0.0s\n",
            "[CV] criterion=entropy, n_estimators=20 ..............................\n",
            "[CV] .. criterion=entropy, n_estimators=20, score=1.000, total=   0.1s\n",
            "[CV] criterion=entropy, n_estimators=20 ..............................\n",
            "[CV] .. criterion=entropy, n_estimators=20, score=0.935, total=   0.0s\n",
            "[CV] criterion=entropy, n_estimators=20 ..............................\n",
            "[CV] .. criterion=entropy, n_estimators=20, score=0.957, total=   0.0s\n",
            "[CV] criterion=entropy, n_estimators=20 ..............................\n",
            "[CV] .. criterion=entropy, n_estimators=20, score=0.956, total=   0.1s\n",
            "[CV] criterion=entropy, n_estimators=20 ..............................\n",
            "[CV] .. criterion=entropy, n_estimators=20, score=0.978, total=   0.1s\n",
            "[CV] criterion=entropy, n_estimators=20 ..............................\n",
            "[CV] .. criterion=entropy, n_estimators=20, score=0.978, total=   0.0s\n",
            "[CV] criterion=entropy, n_estimators=20 ..............................\n",
            "[CV] .. criterion=entropy, n_estimators=20, score=0.978, total=   0.0s\n",
            "[CV] criterion=entropy, n_estimators=20 ..............................\n",
            "[CV] .. criterion=entropy, n_estimators=20, score=0.889, total=   0.0s\n",
            "[CV] criterion=entropy, n_estimators=50 ..............................\n",
            "[CV] .. criterion=entropy, n_estimators=50, score=1.000, total=   0.1s\n",
            "[CV] criterion=entropy, n_estimators=50 ..............................\n",
            "[CV] .. criterion=entropy, n_estimators=50, score=0.957, total=   0.1s\n",
            "[CV] criterion=entropy, n_estimators=50 ..............................\n",
            "[CV] .. criterion=entropy, n_estimators=50, score=0.957, total=   0.1s\n",
            "[CV] criterion=entropy, n_estimators=50 ..............................\n",
            "[CV] .. criterion=entropy, n_estimators=50, score=0.913, total=   0.1s\n",
            "[CV] criterion=entropy, n_estimators=50 ..............................\n",
            "[CV] .. criterion=entropy, n_estimators=50, score=0.978, total=   0.1s\n",
            "[CV] criterion=entropy, n_estimators=50 ..............................\n",
            "[CV] .. criterion=entropy, n_estimators=50, score=0.978, total=   0.1s\n",
            "[CV] criterion=entropy, n_estimators=50 ..............................\n",
            "[CV] .. criterion=entropy, n_estimators=50, score=0.978, total=   0.1s\n",
            "[CV] criterion=entropy, n_estimators=50 ..............................\n",
            "[CV] .. criterion=entropy, n_estimators=50, score=0.956, total=   0.1s\n",
            "[CV] criterion=entropy, n_estimators=50 ..............................\n",
            "[CV] .. criterion=entropy, n_estimators=50, score=0.978, total=   0.1s\n",
            "[CV] criterion=entropy, n_estimators=50 ..............................\n",
            "[CV] .. criterion=entropy, n_estimators=50, score=0.911, total=   0.1s\n",
            "[CV] criterion=entropy, n_estimators=100 .............................\n",
            "[CV] . criterion=entropy, n_estimators=100, score=1.000, total=   0.2s\n",
            "[CV] criterion=entropy, n_estimators=100 .............................\n",
            "[CV] . criterion=entropy, n_estimators=100, score=0.978, total=   0.2s\n",
            "[CV] criterion=entropy, n_estimators=100 .............................\n",
            "[CV] . criterion=entropy, n_estimators=100, score=0.957, total=   0.2s\n",
            "[CV] criterion=entropy, n_estimators=100 .............................\n",
            "[CV] . criterion=entropy, n_estimators=100, score=0.913, total=   0.2s\n",
            "[CV] criterion=entropy, n_estimators=100 .............................\n",
            "[CV] . criterion=entropy, n_estimators=100, score=0.978, total=   0.2s\n",
            "[CV] criterion=entropy, n_estimators=100 .............................\n",
            "[CV] . criterion=entropy, n_estimators=100, score=0.978, total=   0.2s\n",
            "[CV] criterion=entropy, n_estimators=100 .............................\n",
            "[CV] . criterion=entropy, n_estimators=100, score=0.956, total=   0.3s\n",
            "[CV] criterion=entropy, n_estimators=100 .............................\n",
            "[CV] . criterion=entropy, n_estimators=100, score=0.978, total=   0.2s\n",
            "[CV] criterion=entropy, n_estimators=100 .............................\n",
            "[CV] . criterion=entropy, n_estimators=100, score=0.978, total=   0.2s\n",
            "[CV] criterion=entropy, n_estimators=100 .............................\n",
            "[CV] . criterion=entropy, n_estimators=100, score=0.911, total=   0.2s\n",
            "[CV] criterion=entropy, n_estimators=200 .............................\n",
            "[CV] . criterion=entropy, n_estimators=200, score=1.000, total=   0.5s\n",
            "[CV] criterion=entropy, n_estimators=200 .............................\n",
            "[CV] . criterion=entropy, n_estimators=200, score=0.957, total=   0.5s\n",
            "[CV] criterion=entropy, n_estimators=200 .............................\n",
            "[CV] . criterion=entropy, n_estimators=200, score=0.978, total=   0.5s\n",
            "[CV] criterion=entropy, n_estimators=200 .............................\n",
            "[CV] . criterion=entropy, n_estimators=200, score=0.913, total=   0.5s\n",
            "[CV] criterion=entropy, n_estimators=200 .............................\n",
            "[CV] . criterion=entropy, n_estimators=200, score=0.978, total=   0.5s\n",
            "[CV] criterion=entropy, n_estimators=200 .............................\n",
            "[CV] . criterion=entropy, n_estimators=200, score=0.978, total=   0.5s\n",
            "[CV] criterion=entropy, n_estimators=200 .............................\n",
            "[CV] . criterion=entropy, n_estimators=200, score=0.978, total=   0.5s\n",
            "[CV] criterion=entropy, n_estimators=200 .............................\n",
            "[CV] . criterion=entropy, n_estimators=200, score=0.978, total=   0.4s\n",
            "[CV] criterion=entropy, n_estimators=200 .............................\n",
            "[CV] . criterion=entropy, n_estimators=200, score=0.978, total=   0.5s\n",
            "[CV] criterion=entropy, n_estimators=200 .............................\n",
            "[CV] . criterion=entropy, n_estimators=200, score=0.889, total=   0.5s\n"
          ],
          "name": "stdout"
        },
        {
          "output_type": "stream",
          "text": [
            "[Parallel(n_jobs=1)]: Done 120 out of 120 | elapsed:   16.7s finished\n"
          ],
          "name": "stderr"
        },
        {
          "output_type": "execute_result",
          "data": {
            "text/plain": [
              "GridSearchCV(cv=10, error_score=nan,\n",
              "             estimator=RandomForestClassifier(bootstrap=True, ccp_alpha=0.0,\n",
              "                                              class_weight=None,\n",
              "                                              criterion='gini', max_depth=None,\n",
              "                                              max_features='auto',\n",
              "                                              max_leaf_nodes=None,\n",
              "                                              max_samples=None,\n",
              "                                              min_impurity_decrease=0.0,\n",
              "                                              min_impurity_split=None,\n",
              "                                              min_samples_leaf=1,\n",
              "                                              min_samples_split=2,\n",
              "                                              min_weight_fraction_leaf=0.0,\n",
              "                                              n_estimators=100, n_jobs=None,\n",
              "                                              oob_score=False,\n",
              "                                              random_state=None, verbose=0,\n",
              "                                              warm_start=False),\n",
              "             iid='deprecated', n_jobs=None,\n",
              "             param_grid=[{'criterion': ['gini', 'entropy'],\n",
              "                          'n_estimators': [5, 10, 20, 50, 100, 200]}],\n",
              "             pre_dispatch='2*n_jobs', refit=True, return_train_score=False,\n",
              "             scoring=None, verbose=3)"
            ]
          },
          "metadata": {
            "tags": []
          },
          "execution_count": 15
        }
      ]
    },
    {
      "cell_type": "code",
      "metadata": {
        "id": "-vDbIGWVsO72",
        "outputId": "37813d0d-44ba-4f31-9220-da3f8beb4a86",
        "colab": {
          "base_uri": "https://localhost:8080/",
          "height": 54
        }
      },
      "source": [
        "print(rf_grid_search.best_params_)\n",
        "print(rf_grid_search.best_score_)"
      ],
      "execution_count": 16,
      "outputs": [
        {
          "output_type": "stream",
          "text": [
            "{'criterion': 'gini', 'n_estimators': 20}\n",
            "0.9669565217391304\n"
          ],
          "name": "stdout"
        }
      ]
    },
    {
      "cell_type": "code",
      "metadata": {
        "id": "NKrinXwusY-H",
        "outputId": "adc0a5c9-e83d-4154-fc78-fbf25a4517e4",
        "colab": {
          "base_uri": "https://localhost:8080/",
          "height": 90
        }
      },
      "source": [
        "rf_y_pred = rf_grid_search.predict(X_test)\n",
        "print(accuracy_score(y_test, rf_y_pred))\n",
        "print(precision_score(y_test, rf_y_pred))\n",
        "print(recall_score(y_test, rf_y_pred))\n",
        "print(f1_score(y_test, rf_y_pred))"
      ],
      "execution_count": 17,
      "outputs": [
        {
          "output_type": "stream",
          "text": [
            "0.956140350877193\n",
            "0.9583333333333334\n",
            "0.971830985915493\n",
            "0.965034965034965\n"
          ],
          "name": "stdout"
        }
      ]
    },
    {
      "cell_type": "code",
      "metadata": {
        "id": "2DG32oRHseph",
        "outputId": "e98d9703-873c-4095-8064-af6b3dbe0b50",
        "colab": {
          "base_uri": "https://localhost:8080/",
          "height": 54
        }
      },
      "source": [
        "rf_cm = confusion_matrix(y_test, rf_y_pred)\n",
        "rf_cm"
      ],
      "execution_count": 18,
      "outputs": [
        {
          "output_type": "execute_result",
          "data": {
            "text/plain": [
              "array([[40,  3],\n",
              "       [ 2, 69]])"
            ]
          },
          "metadata": {
            "tags": []
          },
          "execution_count": 18
        }
      ]
    },
    {
      "cell_type": "code",
      "metadata": {
        "id": "PEY1eiCSsiwv",
        "outputId": "782bdf81-30c3-4ee6-9533-a83964a3cf60",
        "colab": {
          "base_uri": "https://localhost:8080/",
          "height": 613
        }
      },
      "source": [
        "plt.figure(figsize = (10,10))\n",
        "sn.heatmap(rf_cm, annot=True)"
      ],
      "execution_count": 19,
      "outputs": [
        {
          "output_type": "execute_result",
          "data": {
            "text/plain": [
              "<matplotlib.axes._subplots.AxesSubplot at 0x7fe9292abf28>"
            ]
          },
          "metadata": {
            "tags": []
          },
          "execution_count": 19
        },
        {
          "output_type": "display_data",
          "data": {
            "image/png": "[encoded data removed]",
            "text/plain": [
              "<Figure size 720x720 with 2 Axes>"
            ]
          },
          "metadata": {
            "tags": [],
            "needs_background": "light"
          }
        }
      ]
    },
    {
      "cell_type": "code",
      "metadata": {
        "id": "n8-9v34QsmEy"
      },
      "source": [
        "rf_fpr, rf_tpr, rf_thresholds = roc_curve(y_test, rf_y_pred)"
      ],
      "execution_count": 20,
      "outputs": []
    },
    {
      "cell_type": "code",
      "metadata": {
        "id": "SIE_aUaMsp2F",
        "outputId": "ca2fc48b-2d7a-406a-e9d6-09b0c125402c",
        "colab": {
          "base_uri": "https://localhost:8080/",
          "height": 401
        }
      },
      "source": [
        "plt.figure(figsize=(8, 6))\n",
        "plot_roc_curve(rf_fpr, rf_tpr)\n",
        "plt.show()"
      ],
      "execution_count": 21,
      "outputs": [
        {
          "output_type": "display_data",
          "data": {
            "image/png": "[encoded data removed]",
            "text/plain": [
              "<Figure size 576x432 with 1 Axes>"
            ]
          },
          "metadata": {
            "tags": [],
            "needs_background": "light"
          }
        }
      ]
    },
    {
      "cell_type": "code",
      "metadata": {
        "id": "SknkxkNMsyaC",
        "outputId": "9f840cc4-d3d9-4db9-dfce-c6c4c88d3d5a",
        "colab": {
          "base_uri": "https://localhost:8080/",
          "height": 35
        }
      },
      "source": [
        "from sklearn.metrics import roc_auc_score\n",
        "\n",
        "roc_auc_score(y_test, rf_y_pred)"
      ],
      "execution_count": 22,
      "outputs": [
        {
          "output_type": "execute_result",
          "data": {
            "text/plain": [
              "0.9510317720275139"
            ]
          },
          "metadata": {
            "tags": []
          },
          "execution_count": 22
        }
      ]
    },
    {
      "cell_type": "code",
      "metadata": {
        "id": "9wyerTu4u9RK",
        "outputId": "4987ae7e-65df-4133-cc61-27cce69154c1",
        "colab": {
          "base_uri": "https://localhost:8080/",
          "height": 401
        }
      },
      "source": [
        "plt.figure(figsize=(8, 6))\n",
        "plt.plot(knn_fpr, knn_tpr, \"b:\", linewidth=2, label=\"kNN\")\n",
        "plot_roc_curve(rf_fpr, rf_tpr, \"Random Forest\")\n",
        "plt.grid(True)\n",
        "plt.legend(loc=\"lower right\", fontsize=16)\n",
        "plt.show()"
      ],
      "execution_count": 23,
      "outputs": [
        {
          "output_type": "display_data",
          "data": {
            "image/png": "[encoded data removed]",
            "text/plain": [
              "<Figure size 576x432 with 1 Axes>"
            ]
          },
          "metadata": {
            "tags": [],
            "needs_background": "light"
          }
        }
      ]
    }
  ]
}